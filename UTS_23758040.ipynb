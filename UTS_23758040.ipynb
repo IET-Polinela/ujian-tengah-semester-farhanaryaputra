{
  "cells": [
    {
      "cell_type": "code",
      "source": [
        "%%writefile /content/analisis_stroke_unsupervised.py\n",
        "import pandas as pd\n",
        "import numpy as np\n",
        "import matplotlib.pyplot as plt\n",
        "import seaborn as sns\n",
        "\n",
        "from sklearn.preprocessing import StandardScaler\n",
        "from sklearn.decomposition import PCA\n",
        "from sklearn.cluster import KMeans, DBSCAN\n",
        "from sklearn.metrics import silhouette_score\n",
        "from sklearn.manifold import TSNE\n",
        "\n",
        "# Load dataset\n",
        "df = pd.read_csv('/content/sample_data/healthcare-dataset-stroke-data.csv')\n",
        "df = df.drop(columns=['id'])\n",
        "df = df.dropna()\n",
        "df_encoded = pd.get_dummies(df.drop(columns=['stroke']), drop_first=True)\n",
        "X = df_encoded.values\n",
        "scaler = StandardScaler()\n",
        "X_scaled = scaler.fit_transform(X)\n",
        "\n",
        "# PCA\n",
        "pca = PCA(n_components=2, random_state=42)\n",
        "X_pca = pca.fit_transform(X_scaled)\n",
        "df_pca = pd.DataFrame(X_pca, columns=['PC1', 'PC2'])\n",
        "\n",
        "# KMeans\n",
        "kmeans = KMeans(n_clusters=3, random_state=42)\n",
        "df_pca['Cluster'] = kmeans.fit_predict(X_pca)\n",
        "\n",
        "# Plot KMeans\n",
        "plt.figure(figsize=(8,6))\n",
        "sns.scatterplot(data=df_pca, x='PC1', y='PC2', hue='Cluster', palette='Set1')\n",
        "plt.title('Hasil Clustering dengan K-Means setelah PCA')\n",
        "plt.xlabel('Principal Component 1')\n",
        "plt.ylabel('Principal Component 2')\n",
        "plt.grid(True)\n",
        "plt.savefig('/content/kmeans_pca.png')\n",
        "plt.close()\n",
        "\n",
        "# DBSCAN\n",
        "dbscan = DBSCAN(eps=0.5, min_samples=5)\n",
        "df_pca['DBSCAN_Cluster'] = dbscan.fit_predict(X_pca)\n",
        "\n",
        "# Plot DBSCAN\n",
        "plt.figure(figsize=(8,6))\n",
        "sns.scatterplot(data=df_pca, x='PC1', y='PC2', hue='DBSCAN_Cluster', palette='tab10')\n",
        "plt.title('Hasil Clustering dengan DBSCAN setelah PCA')\n",
        "plt.xlabel('Principal Component 1')\n",
        "plt.ylabel('Principal Component 2')\n",
        "plt.grid(True)\n",
        "plt.savefig('/content/dbscan_pca.png')\n",
        "plt.close()\n",
        "\n",
        "# t-SNE\n",
        "tsne = TSNE(n_components=2, random_state=42)\n",
        "X_tsne = tsne.fit_transform(X_scaled)\n",
        "df_tsne = pd.DataFrame(X_tsne, columns=['Dim1', 'Dim2'])\n",
        "df_tsne['Cluster'] = kmeans.labels_\n",
        "\n",
        "# Plot t-SNE\n",
        "plt.figure(figsize=(8,6))\n",
        "sns.scatterplot(data=df_tsne, x='Dim1', y='Dim2', hue='Cluster', palette='Set1')\n",
        "plt.title('Visualisasi t-SNE dengan label dari K-Means')\n",
        "plt.xlabel('Dimensi 1')\n",
        "plt.ylabel('Dimensi 2')\n",
        "plt.grid(True)\n",
        "plt.savefig('/content/tsne_kmeans.png')\n",
        "plt.close()\n",
        "\n",
        "# Silhouette Score\n",
        "print(\"=== Silhouette Scores ===\")\n",
        "print(f\"KMeans (PCA): {silhouette_score(X_pca, df_pca['Cluster']):.3f}\")\n",
        "if len(set(dbscan.labels_)) > 1:\n",
        "    print(f\"DBSCAN (PCA): {silhouette_score(X_pca, dbscan.labels_):.3f}\")\n",
        "else:\n",
        "    print(\"DBSCAN: Tidak bisa dihitung karena hanya 1 cluster atau semua dianggap noise.\")\n"
      ],
      "metadata": {
        "colab": {
          "base_uri": "https://localhost:8080/"
        },
        "id": "D0hsroN5OOL1",
        "outputId": "7a1ad679-c610-40af-ad6c-d850cefe93c4"
      },
      "id": "D0hsroN5OOL1",
      "execution_count": 106,
      "outputs": [
        {
          "output_type": "stream",
          "name": "stdout",
          "text": [
            "Overwriting /content/analisis_stroke_unsupervised.py\n"
          ]
        }
      ]
    },
    {
      "cell_type": "code",
      "source": [
        "!python3 /content/analisis_stroke_unsupervised.py\n"
      ],
      "metadata": {
        "colab": {
          "base_uri": "https://localhost:8080/"
        },
        "id": "CgYItiivOR2C",
        "outputId": "64cdcc69-bd47-436f-bdf6-8de7bd6d60e1"
      },
      "id": "CgYItiivOR2C",
      "execution_count": 92,
      "outputs": [
        {
          "output_type": "stream",
          "name": "stdout",
          "text": [
            "=== Silhouette Scores ===\n",
            "KMeans (PCA): 0.534\n",
            "DBSCAN (PCA): 0.455\n"
          ]
        }
      ]
    },
    {
      "cell_type": "code",
      "source": [
        "%cd /content/ujian-tengah-semester-farhanaryaputra/"
      ],
      "metadata": {
        "colab": {
          "base_uri": "https://localhost:8080/"
        },
        "id": "SAFvy8rWauy7",
        "outputId": "a0824b7c-a52e-4df2-f630-ca797b7ec930"
      },
      "id": "SAFvy8rWauy7",
      "execution_count": 111,
      "outputs": [
        {
          "output_type": "stream",
          "name": "stdout",
          "text": [
            "/content/ujian-tengah-semester-farhanaryaputra\n"
          ]
        }
      ]
    },
    {
      "cell_type": "code",
      "source": [
        "!mv /content/analisis_stroke_unsupervised.py /content/ujian-tengah-semester-farhanaryaputra/\n",
        "!mv /content/kmeans_pca.png /content/ujian-tengah-semester-farhanaryaputra/\n",
        "!mv /content/dbscan_pca.png /content/ujian-tengah-semester-farhanaryaputra/\n",
        "!mv /content/tsne_kmeans.png /content/ujian-tengah-semester-farhanaryaputra/"
      ],
      "metadata": {
        "id": "Pnjs2njya4A2"
      },
      "id": "Pnjs2njya4A2",
      "execution_count": 110,
      "outputs": []
    },
    {
      "cell_type": "code",
      "source": [
        "!git add analisis_stroke_unsupervised.py kmeans_pca.png dbscan_pca.png tsne_kmeans.png\n",
        "!git commit -m \"Menambahkan script analisis clustering dan visualisasi PNG (KMeans, DBSCAN, t-SNE)\"\n",
        "!git push https://farhanaryaputra:@github.com/IET-Polinela/ujian-tengah-semester-farhanaryaputra.git main\n"
      ],
      "metadata": {
        "colab": {
          "base_uri": "https://localhost:8080/"
        },
        "id": "NRSz0PpqbGC4",
        "outputId": "f23f6eb2-5755-4c83-fb51-4e4c883ab520"
      },
      "id": "NRSz0PpqbGC4",
      "execution_count": 113,
      "outputs": [
        {
          "output_type": "stream",
          "name": "stdout",
          "text": [
            "[main 8ac152c] Menambahkan script analisis clustering dan visualisasi PNG (KMeans, DBSCAN, t-SNE)\n",
            " 4 files changed, 76 insertions(+)\n",
            " create mode 100644 analisis_stroke_unsupervised.py\n",
            " create mode 100644 dbscan_pca.png\n",
            " create mode 100644 kmeans_pca.png\n",
            " create mode 100644 tsne_kmeans.png\n",
            "Enumerating objects: 7, done.\n",
            "Counting objects: 100% (7/7), done.\n",
            "Delta compression using up to 2 threads\n",
            "Compressing objects: 100% (6/6), done.\n",
            "Writing objects: 100% (6/6), 539.19 KiB | 15.86 MiB/s, done.\n",
            "Total 6 (delta 0), reused 0 (delta 0), pack-reused 0\n",
            "To https://github.com/IET-Polinela/ujian-tengah-semester-farhanaryaputra.git\n",
            "   dfdc8d5..8ac152c  main -> main\n"
          ]
        }
      ]
    },
    {
      "cell_type": "code",
      "source": [
        "!git config --global user.email \"farhanaryaputra001@gmail.com\"\n",
        "!git config --global user.name \"farhanaryaputra\"\n"
      ],
      "metadata": {
        "id": "DcLOllFZPUeb"
      },
      "id": "DcLOllFZPUeb",
      "execution_count": 107,
      "outputs": []
    },
    {
      "cell_type": "code",
      "source": [
        "!git remote set-url origin https://farhanaryaputra:@github.com/IET-Polinela/ujian-tengah-semester-farhanaryaputra.git\n"
      ],
      "metadata": {
        "id": "rPWd9tXgQR_S"
      },
      "id": "rPWd9tXgQR_S",
      "execution_count": 96,
      "outputs": []
    },
    {
      "cell_type": "code",
      "source": [
        "!git clone https://github.com/IET-Polinela/ujian-tengah-semester-farhanaryaputra.git\n"
      ],
      "metadata": {
        "colab": {
          "base_uri": "https://localhost:8080/"
        },
        "id": "NYKoI88LPb0M",
        "outputId": "1df01100-8203-43d8-f1e5-cdfbdc97e62b"
      },
      "id": "NYKoI88LPb0M",
      "execution_count": 97,
      "outputs": [
        {
          "output_type": "stream",
          "name": "stdout",
          "text": [
            "Cloning into 'ujian-tengah-semester-farhanaryaputra'...\n",
            "remote: Enumerating objects: 3, done.\u001b[K\n",
            "remote: Counting objects: 100% (3/3), done.\u001b[K\n",
            "remote: Compressing objects: 100% (2/2), done.\u001b[K\n",
            "remote: Total 3 (delta 0), reused 0 (delta 0), pack-reused 0 (from 0)\u001b[K\n",
            "Receiving objects: 100% (3/3), done.\n"
          ]
        }
      ]
    },
    {
      "cell_type": "code",
      "source": [
        "%cd ujian-tengah-semester-farhanaryaputra\n"
      ],
      "metadata": {
        "colab": {
          "base_uri": "https://localhost:8080/"
        },
        "id": "yWplD6vtPj4E",
        "outputId": "1ce5587a-883e-49c6-b6f0-b57d4b2a6425"
      },
      "id": "yWplD6vtPj4E",
      "execution_count": 98,
      "outputs": [
        {
          "output_type": "stream",
          "name": "stdout",
          "text": [
            "/content/ujian-tengah-semester-farhanaryaputra/ujian-tengah-semester-farhanaryaputra/ujian-tengah-semester-farhanaryaputra/ujian-tengah-semester-farhanaryaputra/ujian-tengah-semester-farhanaryaputra\n"
          ]
        }
      ]
    },
    {
      "cell_type": "code",
      "source": [
        "!git remote -v"
      ],
      "metadata": {
        "colab": {
          "base_uri": "https://localhost:8080/"
        },
        "id": "hcuM_1o1ZrFN",
        "outputId": "d5a1eafd-b6c2-411a-dfac-ae2414e75aaf"
      },
      "id": "hcuM_1o1ZrFN",
      "execution_count": 104,
      "outputs": [
        {
          "output_type": "stream",
          "name": "stdout",
          "text": [
            "origin\thttps://github.com/IET-Polinela/ujian-tengah-semester-farhanaryaputra.git (fetch)\n",
            "origin\thttps://github.com/IET-Polinela/ujian-tengah-semester-farhanaryaputra.git (push)\n"
          ]
        }
      ]
    }
  ],
  "metadata": {
    "language": "python",
    "colab": {
      "provenance": []
    },
    "language_info": {
      "name": "python"
    },
    "kernelspec": {
      "name": "python3",
      "display_name": "Python 3"
    }
  },
  "nbformat": 4,
  "nbformat_minor": 5
}